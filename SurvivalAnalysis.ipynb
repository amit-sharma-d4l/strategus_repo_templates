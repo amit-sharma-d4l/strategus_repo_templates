{
 "cells": [
  {
   "cell_type": "markdown",
   "metadata": {},
   "source": [
    "\n",
    "<h2> Survival Analysis (Kaplan Meier) Network Study Using Strategus</h2>"
   ]
  },
  {
   "cell_type": "markdown",
   "metadata": {},
   "source": []
  },
  {
   "cell_type": "markdown",
   "metadata": {},
   "source": [
    "<h4> Step 1 - Import the necessary libraries </h4>\n"
   ]
  },
  {
   "cell_type": "code",
   "execution_count": null,
   "metadata": {},
   "outputs": [],
   "source": [
    "%%jupyter\n",
    "# import libraries\n",
    "library(rD2E)\n",
    "library(Strategus)\n",
    "library(dplyr)"
   ]
  },
  {
   "cell_type": "markdown",
   "metadata": {},
   "source": [
    "<h4> Step 2 - Cohort definition loading </h4>"
   ]
  },
  {
   "cell_type": "code",
   "execution_count": null,
   "metadata": {},
   "outputs": [],
   "source": [
    "%%jupyter\n",
    "cohorts_set <- c(13)\n",
    "cohortDefinitionSet <- rD2E::get_cohort_definition_set(cohort_set)"
   ]
  },
  {
   "cell_type": "markdown",
   "metadata": {},
   "source": [
    "<h4> Step 3 - Define the network study components </h4>"
   ]
  },
  {
   "cell_type": "code",
   "execution_count": null,
   "metadata": {},
   "outputs": [],
   "source": [
    "%%jupyter\n",
    "# Target-Comparator pairs\n",
    "cmTcList <- data.frame(\n",
    "  targetCohortId = 1001,\n",
    "  targetCohortName = \"Immunotherapy + Surgery\",\n",
    "  comparatorCohortId = 1002,\n",
    "  comparatorCohortName = \"Surgery only\"\n",
    ")\n",
    "\n",
    "# Outcome cohort\n",
    "outcomeCohortId <- 3001\n",
    "\n",
    "# Set time-at-risk\n",
    "timeAtRisks <- tibble(\n",
    "  label = c(\"KM Analysis\"),\n",
    "  riskWindowStart = c(1),\n",
    "  startAnchor = c(\"cohort start\"),\n",
    "  riskWindowEnd = c(0),\n",
    "  endAnchor = c(\"cohort end\")\n",
    ")\n",
    "\n",
    "# Define the outcome\n",
    "outcomeList <- lapply(seq_len(1), function(i) {\n",
    "  CohortMethod::createOutcome(\n",
    "    outcomeId = outcomeCohortId,\n",
    "    outcomeOfInterest = TRUE\n",
    "  )\n",
    "})\n",
    "\n",
    "# Define the T-C-O structure\n",
    "targetComparatorOutcomesList <- list(\n",
    "  CohortMethod::createTargetComparatorOutcomes(\n",
    "    targetId = cmTcList$targetCohortId,\n",
    "    comparatorId = cmTcList$comparatorCohortId,\n",
    "    outcomes = outcomeList\n",
    "  )\n",
    ")"
   ]
  },
  {
   "cell_type": "markdown",
   "metadata": {},
   "source": [
    "<p> Create settings for modules involved in the study </p>"
   ]
  },
  {
   "cell_type": "code",
   "execution_count": null,
   "metadata": {},
   "outputs": [],
   "source": [
    "%%Jupyter\n",
    "# Setup cohort method module\n",
    "cmModuleSettingsCreator <- CohortMethodModule$new()\n",
    "\n",
    "cmAnalysisList <- list(\n",
    "  CohortMethod::createCmAnalysis(\n",
    "    analysisId = 1,\n",
    "    description = \"Kaplan-Meier survival analysis\",\n",
    "    getDbCohortMethodDataArgs = CohortMethod::createGetDbCohortMethodDataArgs(\n",
    "      studyStartDate = studyStartDate,\n",
    "      studyEndDate = studyEndDate\n",
    "    ),\n",
    "    createStudyPopArgs = CohortMethod::createCreateStudyPopulationArgs(\n",
    "      firstExposureOnly = TRUE,\n",
    "      removeDuplicateSubjects = \"keep first\",\n",
    "      removeSubjectsWithPriorOutcome = FALSE,\n",
    "      priorOutcomeLookback = 0,\n",
    "      requireTimeAtRisk = FALSE,\n",
    "      riskWindowStart = timeAtRisks$riskWindowStart,\n",
    "      startAnchor = timeAtRisks$startAnchor,\n",
    "      riskWindowEnd = timeAtRisks$riskWindowEnd,\n",
    "      endAnchor = timeAtRisks$endAnchor\n",
    "    )\n",
    "  )\n",
    ")\n",
    "\n",
    "cohortMethodModuleSpecifications <- cmModuleSettingsCreator$createModuleSpecifications(\n",
    "  cmAnalysisList = cmAnalysisList,\n",
    "  targetComparatorOutcomesList = targetComparatorOutcomesList\n",
    ")\n",
    "\n",
    "# Cohort Generator Module\n",
    "cgModuleSettingsCreator <- CohortGeneratorModule$new()\n",
    "cohortDefinitionShared <- cgModuleSettingsCreator$createCohortSharedResourceSpecifications(cohortDefinitionSet)\n",
    "cohortGeneratorModuleSpecifications <- cgModuleSettingsCreator$createModuleSpecifications()"
   ]
  },
  {
   "cell_type": "code",
   "execution_count": null,
   "metadata": {},
   "outputs": [],
   "source": []
  },
  {
   "cell_type": "markdown",
   "metadata": {},
   "source": [
    "<p> Create the analysis specification object - including all the modules and configurations created above </p>"
   ]
  },
  {
   "cell_type": "code",
   "execution_count": null,
   "metadata": {},
   "outputs": [],
   "source": [
    "%%jupyter\n",
    "# Final Analysis Spec\n",
    "analysisSpecifications <- createEmptyAnalysisSpecificiations() |>\n",
    "  addSharedResources(cohortDefinitionShared) |>\n",
    "  addModuleSpecifications(cohortGeneratorModuleSpecifications) |>\n",
    "  addModuleSpecifications(cohortMethodModuleSpecifications)"
   ]
  },
  {
   "cell_type": "markdown",
   "metadata": {},
   "source": [
    "<h4> Step 4 - Execute the Strategus study </h4>"
   ]
  },
  {
   "cell_type": "code",
   "execution_count": null,
   "metadata": {},
   "outputs": [],
   "source": [
    "%%jupyter\n",
    "study_name <- \"survival_analysis_study\"  # Unique study name\n",
    "options <- create_options(upload_results=TRUE, study_id = study_name) # set a study_id with a unique id\n",
    "rD2E::run_strategus_flow(analysisSpecification = analysisSpecifications, options = options)"
   ]
  }
 ],
 "metadata": {
  "language_info": {
   "name": "python"
  }
 },
 "nbformat": 4,
 "nbformat_minor": 2
}
