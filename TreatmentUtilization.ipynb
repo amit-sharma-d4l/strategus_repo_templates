{
 "cells": [
  {
   "cell_type": "markdown",
   "metadata": {},
   "source": [
    "\n",
    "<h2> Treatment Pathways Network Study Using Strategus </h2>"
   ]
  },
  {
   "cell_type": "markdown",
   "metadata": {},
   "source": [
    "<h4> Step 1 - Import the necessary libraries </h4>\n"
   ]
  },
  {
   "cell_type": "code",
   "execution_count": null,
   "metadata": {},
   "outputs": [],
   "source": [
    "%%jupyter\n",
    "# import libraries\n",
    "library(rD2E)\n",
    "library(Strategus)\n",
    "library(dplyr)"
   ]
  },
  {
   "cell_type": "markdown",
   "metadata": {},
   "source": [
    "<h4> Step 2 - Cohort definition loading </h4>"
   ]
  },
  {
   "cell_type": "code",
   "execution_count": null,
   "metadata": {},
   "outputs": [],
   "source": [
    "%%jupyter\n",
    "cohorts_set <- c(13)\n",
    "cohortDefinitionSet <- rD2E::get_cohort_definition_set(cohort_set)"
   ]
  },
  {
   "cell_type": "markdown",
   "metadata": {},
   "source": [
    "<h4> Step 3 - Define the network study components </h4>"
   ]
  },
  {
   "cell_type": "code",
   "execution_count": null,
   "metadata": {},
   "outputs": [],
   "source": [
    "%%jupyter\n",
    "# Study period\n",
    "studyStartDate < -\"19001201\"\n",
    "studyEndDate < -\"20231231\"\n",
    "\n",
    "# Assume target cohort is for depression\n",
    "targetCohortId <- 1  # actual depression cohort ID\n",
    "\n",
    "# Event cohorts: SSRI, SNRI, TCA, bupropion, esketamine\n",
    "eventCohortIds <- c(2, 3, 4, 5, 6)  \n",
    "\n",
    "# Shared resources\n",
    "cgModuleSettingsCreator <- CohortGeneratorModule$new()\n",
    "cohortDefinitionShared <- cgModuleSettingsCreator$createCohortSharedResourceSpecifications(cohortDefinitionSet)\n",
    "cohortGeneratorModuleSpecifications <- cgModuleSettingsCreator$createModuleSpecifications(generateStats = TRUE)"
   ]
  },
  {
   "cell_type": "code",
   "execution_count": null,
   "metadata": {},
   "outputs": [],
   "source": [
    "%%Jupyter\n",
    "# TreatmentPatterns module setup\n",
    "tpModuleSettingsCreator <- TreatmentPatternsModule$new()\n",
    "\n",
    "treatmentPatternsSpecifications <- tpModuleSettingsCreator$createModuleSpecifications(\n",
    "  targetCohortId = targetCohortId,\n",
    "  eventCohortIds = eventCohortIds,\n",
    "  studyWindow = list(\n",
    "    startDate = studyStartDate,\n",
    "    endDate = studyEndDate\n",
    "  ),\n",
    "  periodPriorToIndex = 0,\n",
    "  minEraDuration = 0,\n",
    "  combinationWindow = 30,\n",
    "  minPostCombinationDuration = 0,\n",
    "  splitEventCohorts = TRUE,\n",
    "  minCellCount = 5,\n",
    "  groupCombinations = TRUE\n",
    ")"
   ]
  },
  {
   "cell_type": "code",
   "execution_count": null,
   "metadata": {},
   "outputs": [],
   "source": [
    "%%jupyter\n",
    "# Create analysis spec\n",
    "analysisSpecifications <- Strategus::createEmptyAnalysisSpecificiations() |>\n",
    "  Strategus::addSharedResources(cohortDefinitionShared) |>\n",
    "  Strategus::addModuleSpecifications(cohortGeneratorModuleSpecifications) |>\n",
    "  Strategus::addModuleSpecifications(treatmentPatternsSpecifications)\n",
    "\n",
    "# Save JSON\n",
    "#ParallelLogger::saveSettingsToJson(\n",
    "#  analysisSpecifications,\n",
    "#  file.path(\"inst\", \"Eunomia\", \"SampleStudy\", \"treatmentPatternsAnalysisSpecification.json\")\n",
    "#)"
   ]
  },
  {
   "cell_type": "markdown",
   "metadata": {},
   "source": [
    "<h4> Step 4 - Execute the Strategus study </h4>"
   ]
  },
  {
   "cell_type": "code",
   "execution_count": null,
   "metadata": {},
   "outputs": [],
   "source": [
    "%%jupyter\n",
    "study_name <- \"treatment_pathways_study\"  # Unique study name\n",
    "options <- create_options(upload_results=TRUE, study_id = study_name) # set a study_id with a unique id\n",
    "rD2E::run_strategus_flow(analysisSpecification = analysisSpecifications, options = options)"
   ]
  }
 ],
 "metadata": {
  "kernelspec": {
   "display_name": "semantic_search_venv",
   "language": "python",
   "name": "python3"
  },
  "language_info": {
   "name": "python",
   "version": "3.8.20"
  }
 },
 "nbformat": 4,
 "nbformat_minor": 2
}
