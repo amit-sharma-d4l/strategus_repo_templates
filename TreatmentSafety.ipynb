{
 "cells": [
  {
   "cell_type": "markdown",
   "metadata": {},
   "source": [
    "\n",
    "## Treatment Safety Network Study Using Strategus - PLP Study"
   ]
  },
  {
   "cell_type": "markdown",
   "metadata": {},
   "source": [
    "#### Step 1 - Import the necessary libraries\n"
   ]
  },
  {
   "cell_type": "code",
   "execution_count": null,
   "metadata": {},
   "outputs": [],
   "source": [
    "%%jupyter\n",
    "# import libraries\n",
    "library(rD2E)\n",
    "library(Strategus)\n",
    "library(dplyr)"
   ]
  },
  {
   "cell_type": "markdown",
   "metadata": {},
   "source": [
    "#### Step 2 - Cohort definition loading"
   ]
  },
  {
   "cell_type": "code",
   "execution_count": null,
   "metadata": {},
   "outputs": [],
   "source": [
    "%%jupyter\n",
    "tarCohortId <- 12\n",
    "outCohortId <- 11\n",
    "cohorts_set <- c(tarCohortId, outCohortId)\n",
    "cohortDefinitionSet <- rD2E::get_cohort_definition_set(cohorts_set)\n"
   ]
  },
  {
   "cell_type": "markdown",
   "metadata": {},
   "source": [
    "#### Step 3 - Define the network study components"
   ]
  },
  {
   "cell_type": "code",
   "execution_count": null,
   "metadata": {},
   "outputs": [],
   "source": [
    "%%jupyter\n",
    "# If you are not restricting your study to a specific time window,\n",
    "# please make these strings empty\n",
    "studyStartDate <- '19001201' # YYYYMMDD\n",
    "studyEndDate <- '20231231'   # YYYYMMDD\n",
    "\n",
    "\n",
    "# PLP time-at-risks should try to use fixed-time TARs\n",
    "plpTimeAtRisks <- tibble(\n",
    "  riskWindowStart  = c(1),\n",
    "  startAnchor = c(\"cohort start\"),\n",
    "  riskWindowEnd  = c(365),\n",
    "  endAnchor = c(\"cohort start\")\n",
    ")\n",
    "\n",
    "# Outcomes: The outcome for this study is cohort_id == outcomeCohortId\n",
    "oList <- cohortDefinitionSet %>%\n",
    "  filter(.data$cohortId == outCohortId) %>%\n",
    "  mutate(outcomeCohortId = cohortId, outcomeCohortName = cohortName) %>%\n",
    "  select(outcomeCohortId, outcomeCohortName) %>%\n",
    "  mutate(cleanWindow = 365)"
   ]
  },
  {
   "cell_type": "markdown",
   "metadata": {},
   "source": [
    "Create settings for modules involved in the study"
   ]
  },
  {
   "cell_type": "code",
   "execution_count": null,
   "metadata": {},
   "outputs": [],
   "source": [
    "%%Jupyter\n",
    "# CohortGeneratorModule --------------------------------------------------------\n",
    "cgModuleSettingsCreator <- CohortGeneratorModule$new()\n",
    "cohortDefinitionShared <- cgModuleSettingsCreator$createCohortSharedResourceSpecifications(cohortDefinitionSet)\n",
    "cohortGeneratorModuleSpecifications <- cgModuleSettingsCreator$createModuleSpecifications(\n",
    "  generateStats = TRUE\n",
    ")\n",
    "\n",
    "# PatientLevelPredictionModule -------------------------------------------------\n",
    "plpModuleSettingsCreator <- PatientLevelPredictionModule$new()\n",
    "\n",
    "modelSettings <- list(\n",
    "  lassoLogisticRegression = PatientLevelPrediction::setLassoLogisticRegression()\n",
    ")"
   ]
  },
  {
   "cell_type": "code",
   "execution_count": null,
   "metadata": {},
   "outputs": [],
   "source": [
    "%%jupyter\n",
    "modelDesignList <- list()\n",
    "tcIds <- cohortDefinitionSet %>%\n",
    "  filter(cohortId != 3) %>%\n",
    "  pull(cohortId)\n",
    "\n",
    "for (cohortId in tcIds) {\n",
    "  for (j in seq_len(nrow(plpTimeAtRisks))) {\n",
    "    for (k in seq_len(nrow(oList))) {\n",
    "      priorOutcomeLookback <- 99999\n",
    "      for (mSetting in modelSettings) {\n",
    "        modelDesignList[[length(modelDesignList) + 1]] <- PatientLevelPrediction::createModelDesign(\n",
    "          targetId = cohortId,\n",
    "          outcomeId = oList$outcomeCohortId[k],\n",
    "          restrictPlpDataSettings = PatientLevelPrediction::createRestrictPlpDataSettings(\n",
    "            sampleSize = 1000000,\n",
    "            studyStartDate = studyStartDate,\n",
    "            studyEndDate = studyEndDate,\n",
    "            firstExposureOnly = FALSE,\n",
    "            washoutPeriod = 0\n",
    "          ),\n",
    "          populationSettings = PatientLevelPrediction::createStudyPopulationSettings(\n",
    "            riskWindowStart = plpTimeAtRisks$riskWindowStart[j],\n",
    "            startAnchor = plpTimeAtRisks$startAnchor[j],\n",
    "            riskWindowEnd = plpTimeAtRisks$riskWindowEnd[j],\n",
    "            endAnchor = plpTimeAtRisks$endAnchor[j],\n",
    "            removeSubjectsWithPriorOutcome = TRUE,\n",
    "            priorOutcomeLookback = priorOutcomeLookback,\n",
    "            requireTimeAtRisk = FALSE,\n",
    "            binary = TRUE,\n",
    "            includeAllOutcomes = TRUE,\n",
    "            firstExposureOnly = FALSE,\n",
    "            washoutPeriod = 0,\n",
    "            minTimeAtRisk = plpTimeAtRisks$riskWindowEnd[j] - plpTimeAtRisks$riskWindowStart[j],\n",
    "            restrictTarToCohortEnd = FALSE\n",
    "          ),\n",
    "          covariateSettings = FeatureExtraction::createCovariateSettings(\n",
    "            useDemographicsGender = TRUE,\n",
    "            useDemographicsAgeGroup = TRUE,\n",
    "            useConditionGroupEraLongTerm = TRUE,\n",
    "            useDrugGroupEraLongTerm = TRUE,\n",
    "            useVisitConceptCountLongTerm = TRUE\n",
    "          ),\n",
    "          preprocessSettings = PatientLevelPrediction::createPreprocessSettings(),\n",
    "          modelSettings = mSetting\n",
    "        )\n",
    "      }\n",
    "    }\n",
    "  }\n",
    "}\n",
    "\n",
    "plpModuleSpecifications <- plpModuleSettingsCreator$createModuleSpecifications(\n",
    "  modelDesignList = modelDesignList\n",
    ")"
   ]
  },
  {
   "cell_type": "markdown",
   "metadata": {},
   "source": [
    "Create the analysis specification object - including all the modules and configurations created above"
   ]
  },
  {
   "cell_type": "code",
   "execution_count": null,
   "metadata": {},
   "outputs": [],
   "source": [
    "%%jupyter\n",
    "# Create the analysis specifications ------------------------------------------\n",
    "analysisSpecifications <- Strategus::createEmptyAnalysisSpecificiations() |>\n",
    "  Strategus::addSharedResources(cohortDefinitionShared) |> \n",
    "  Strategus::addModuleSpecifications(cohortGeneratorModuleSpecifications) |>\n",
    "  Strategus::addModuleSpecifications(plpModuleSpecifications)"
   ]
  },
  {
   "cell_type": "markdown",
   "metadata": {},
   "source": [
    "#### Step 4 - Execute the Strategus study"
   ]
  },
  {
   "cell_type": "code",
   "execution_count": null,
   "metadata": {},
   "outputs": [],
   "source": [
    "%%jupyter\n",
    "# temporary workaround for running strategus on d2e server\n",
    "executionSettings <- Strategus::createCdmExecutionSettings(\n",
    "    workDatabaseSchema = \"cdm_5pct_9a0f90a32250497d9483c981ef1e1e70\",\n",
    "    cdmDatabaseSchema = \"cdm_5pct_9a0f90a32250497d9483c981ef1e1e70\",\n",
    "    cohortTableNames = CohortGenerator::getCohortTableNames(cohortTable = \"cohort\"),\n",
    "    workFolder = \"/tmp/<notebook_name>/work\",\n",
    "    resultsFolder = \"/tmp/<notebook_name>/results\",\n",
    "    logFileName = \"/tmp/<notebook_name>/strategus-log.txt\",\n",
    "    minCellCount = 5,\n",
    "    maxCores = 8,\n",
    "  )"
   ]
  },
  {
   "cell_type": "code",
   "execution_count": null,
   "metadata": {},
   "outputs": [],
   "source": [
    "%%jupyter\n",
    "study_name <- \"treatment_safety_study\"  # Unique study name\n",
    "options <- create_options(upload_results=TRUE, study_id = study_name) # set a study_id with a unique id\n",
    "options$studyId <- study_name\n",
    "rD2E::run_strategus_flow(analysisSpecification = analysisSpecifications, options = options)"
   ]
  }
 ],
 "metadata": {
  "language_info": {
   "name": "python"
  }
 },
 "nbformat": 4,
 "nbformat_minor": 2
}
